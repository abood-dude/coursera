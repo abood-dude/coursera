{
  "metadata": {
    "kernelspec": {
      "name": "python",
      "display_name": "Pyolite",
      "language": "python"
    },
    "language_info": {
      "codemirror_mode": {
        "name": "python",
        "version": 3
      },
      "file_extension": ".py",
      "mimetype": "text/x-python",
      "name": "python",
      "nbconvert_exporter": "python",
      "pygments_lexer": "ipython3",
      "version": "3.8"
    }
  },
  "nbformat_minor": 4,
  "nbformat": 4,
  "cells": [
    {
      "cell_type": "markdown",
      "source": "<center>\n    <img src=\"https://cf-courses-data.s3.us.cloud-object-storage.appdomain.cloud/IBMDeveloperSkillsNetwork-DS0105EN-SkillsNetwork/labs/Module2/images/SN_web_lightmode.png\" width=\"300\" alt=\"cognitiveclass.ai logo\">\n</center>\n",
      "metadata": {}
    },
    {
      "cell_type": "markdown",
      "source": "#### Add your code below following the instructions given in the course\n",
      "metadata": {}
    },
    {
      "cell_type": "markdown",
      "source": "# My Jupyter Notebook on IBM Watson Studio",
      "metadata": {}
    },
    {
      "cell_type": "markdown",
      "source": "**Abood Jahameh**\n\nDesired Occupation: Data Scientist in Football\n",
      "metadata": {}
    },
    {
      "cell_type": "markdown",
      "source": "*I am interested in data science because of its potential to revolutionize the way we understand and analyze football (soccer) games. With the help of data science techniques such as machine learning and statistical modeling, we can gain deeper insights into player performance, team dynamics, and even game strategy, ultimately leading to better decision-making on and off the field.*\n",
      "metadata": {}
    },
    {
      "cell_type": "markdown",
      "source": "### The code below Outputs the text \"Arsenal are the best!\" ",
      "metadata": {}
    },
    {
      "cell_type": "code",
      "source": "print('Arsenal are the best!')",
      "metadata": {
        "trusted": true
      },
      "execution_count": 7,
      "outputs": [
        {
          "name": "stdout",
          "text": "Arsenal are the best!\n",
          "output_type": "stream"
        }
      ]
    },
    {
      "cell_type": "markdown",
      "source": "## My Favorite Arsenal Players\n\nHere are some of my favorite Arsenal Players of all time:\n\n- Thierry Henry\n- Alexis Sanchez\n- Van Persie\n\n| Player Name       | Position         | Star Rating |\n| ----------------- | ---------------- | ------------|\n| Thierry Henry     | Forward          | 5/5         |\n| Alexis Sanchez    | Wing/Forward     | 5/5         |\n| Van Persie        | Forward          | 5/5         |",
      "metadata": {}
    },
    {
      "cell_type": "code",
      "source": "",
      "metadata": {},
      "execution_count": null,
      "outputs": []
    }
  ]
}